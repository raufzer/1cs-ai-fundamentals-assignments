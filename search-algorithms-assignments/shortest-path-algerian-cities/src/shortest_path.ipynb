{
 "cells": [
  {
   "cell_type": "markdown",
   "id": "068ceb79",
   "metadata": {},
   "source": [
    "# Import Required Libraries\n"
   ]
  },
  {
   "cell_type": "code",
   "execution_count": 1,
   "id": "b74e7cde",
   "metadata": {},
   "outputs": [],
   "source": [
    "import osmnx as ox\n",
    "import networkx as nx\n",
    "import folium\n",
    "import webbrowser\n",
    "import json\n",
    "import os\n"
   ]
  },
  {
   "cell_type": "markdown",
   "id": "f118f016",
   "metadata": {},
   "source": [
    "# Define Project Root\n"
   ]
  },
  {
   "cell_type": "code",
   "execution_count": 2,
   "id": "fe5e2792",
   "metadata": {},
   "outputs": [
    {
     "ename": "NameError",
     "evalue": "name '__file__' is not defined",
     "output_type": "error",
     "traceback": [
      "\u001b[31m---------------------------------------------------------------------------\u001b[39m",
      "\u001b[31mNameError\u001b[39m                                 Traceback (most recent call last)",
      "\u001b[36mCell\u001b[39m\u001b[36m \u001b[39m\u001b[32mIn[2]\u001b[39m\u001b[32m, line 1\u001b[39m\n\u001b[32m----> \u001b[39m\u001b[32m1\u001b[39m project_root = os.path.dirname(os.path.dirname(os.path.abspath(\u001b[34;43m__file__\u001b[39;49m)))\n",
      "\u001b[31mNameError\u001b[39m: name '__file__' is not defined"
     ]
    }
   ],
   "source": [
    "project_root = os.path.dirname(os.path.dirname(os.path.abspath(__file__)))"
   ]
  },
  {
   "cell_type": "markdown",
   "id": "e05b8dd2",
   "metadata": {},
   "source": [
    "# Load Map Data\n"
   ]
  },
  {
   "cell_type": "code",
   "execution_count": null,
   "id": "76ac4e57",
   "metadata": {},
   "outputs": [],
   "source": [
    "def load_map_data():\n",
    "    print(\"Loading map data...\")\n",
    "    place = \"Algiers, Algeria\"  \n",
    "    graph = ox.graph_from_place(place, network_type=\"drive\")\n",
    "    print(\"Map data loaded successfully!\")\n",
    "    return graph\n"
   ]
  },
  {
   "cell_type": "markdown",
   "id": "15c7c267",
   "metadata": {},
   "source": [
    "# Find Shortest Path\n"
   ]
  },
  {
   "cell_type": "code",
   "execution_count": null,
   "id": "1f1c5871",
   "metadata": {},
   "outputs": [],
   "source": [
    "def find_shortest_path(graph, start_node, goal_node):\n",
    "    print(\"Finding shortest path...\")\n",
    "    shortest_path = nx.astar_path(graph, start_node, goal_node, weight=\"length\")\n",
    "    print(\"Shortest path found!\")\n",
    "    return shortest_path\n"
   ]
  },
  {
   "cell_type": "markdown",
   "id": "a1b71699",
   "metadata": {},
   "source": [
    "# Create Interactive Map for Selection\n"
   ]
  },
  {
   "cell_type": "code",
   "execution_count": null,
   "id": "9fc0a788",
   "metadata": {},
   "outputs": [],
   "source": [
    "def create_interactive_map():\n",
    "    print(\"Creating interactive map for point selection...\")\n",
    "    map_template_path = os.path.join(project_root, \"templates\", \"algeria_map.html\")\n",
    "    webbrowser.open(f\"http://localhost:8000/templates/algeria_map.html\")\n"
   ]
  },
  {
   "cell_type": "markdown",
   "id": "45e8ff79",
   "metadata": {},
   "source": [
    "# Get User Selected Points\n"
   ]
  },
  {
   "cell_type": "code",
   "execution_count": null,
   "id": "452a97d3",
   "metadata": {},
   "outputs": [],
   "source": [
    "def get_user_points():\n",
    "    print(\"Please select the start and end points on the map.\")\n",
    "    input(\"After selecting the points, save the markers and press Enter to continue...\")\n",
    "    markers_path = os.path.join(project_root, \"data\", \"markers.json\")\n",
    "    if not os.path.exists(markers_path):\n",
    "        print(\"Error: markers.json not found. Did you save the markers and move them to the 'data' folder?\")\n",
    "        exit(1)\n",
    "    with open(markers_path, \"r\") as f:\n",
    "        markers = json.load(f)\n",
    "    start_coords = (markers[0][\"geometry\"][\"coordinates\"][1], markers[0][\"geometry\"][\"coordinates\"][0])\n",
    "    end_coords = (markers[1][\"geometry\"][\"coordinates\"][1], markers[1][\"geometry\"][\"coordinates\"][0])\n",
    "    print(f\"Start Point: {start_coords}\")\n",
    "    print(f\"End Point: {end_coords}\")\n",
    "    return start_coords, end_coords\n"
   ]
  },
  {
   "cell_type": "markdown",
   "id": "2b638c80",
   "metadata": {},
   "source": [
    "# Find Nearest Nodes in the Graph\n"
   ]
  },
  {
   "cell_type": "code",
   "execution_count": null,
   "id": "d229a9e0",
   "metadata": {},
   "outputs": [],
   "source": [
    "def find_nearest_nodes(graph, start_coords, end_coords):\n",
    "    start_node = ox.distance.nearest_nodes(graph, start_coords[1], start_coords[0])\n",
    "    end_node = ox.distance.nearest_nodes(graph, end_coords[1], end_coords[0])\n",
    "    return start_node, end_node\n"
   ]
  },
  {
   "cell_type": "markdown",
   "id": "449e83d4",
   "metadata": {},
   "source": [
    "# Visualize Shortest Path on Map\n"
   ]
  },
  {
   "cell_type": "code",
   "execution_count": null,
   "id": "e7d46d62",
   "metadata": {},
   "outputs": [],
   "source": [
    "def visualize_path_interactive(graph, shortest_path, start_coords, end_coords):\n",
    "    print(\"Visualizing the shortest path on an interactive map...\")\n",
    "    m = folium.Map(location=[36.7525, 3.04197], zoom_start=12)  \n",
    "    folium.Marker(start_coords, popup=\"Start\").add_to(m)\n",
    "    folium.Marker(end_coords, popup=\"End\").add_to(m)\n",
    "    path_coords = [(graph.nodes[node]['y'], graph.nodes[node]['x']) for node in shortest_path]\n",
    "    folium.PolyLine(path_coords, color=\"blue\", weight=2.5, opacity=1).add_to(m)\n",
    "    results_path = os.path.join(project_root, \"results\", \"shortest_path_map.html\")\n",
    "    m.save(results_path)\n",
    "    print(f\"Interactive map with the shortest path saved as '{results_path}'!\")\n",
    "    webbrowser.open(f\"http://localhost:8000/results/shortest_path_map.html\")\n"
   ]
  },
  {
   "cell_type": "markdown",
   "id": "0ea2a77d",
   "metadata": {},
   "source": [
    "# Main Execution\n"
   ]
  },
  {
   "cell_type": "code",
   "execution_count": null,
   "id": "0c2acf50",
   "metadata": {},
   "outputs": [],
   "source": [
    "def main():\n",
    "    graph = load_map_data()\n",
    "    create_interactive_map()\n",
    "    start_coords, end_coords = get_user_points()\n",
    "    start_node, end_node = find_nearest_nodes(graph, start_coords, end_coords)\n",
    "    shortest_path = find_shortest_path(graph, start_node, end_node)\n",
    "    visualize_path_interactive(graph, shortest_path, start_coords, end_coords)\n",
    "\n",
    "if __name__ == \"__main__\":\n",
    "    main()\n"
   ]
  }
 ],
 "metadata": {
  "jupytext": {
   "cell_metadata_filter": "-all",
   "main_language": "python",
   "notebook_metadata_filter": "-all"
  },
  "kernelspec": {
   "display_name": "Python 3",
   "language": "python",
   "name": "python3"
  },
  "language_info": {
   "codemirror_mode": {
    "name": "ipython",
    "version": 3
   },
   "file_extension": ".py",
   "mimetype": "text/x-python",
   "name": "python",
   "nbconvert_exporter": "python",
   "pygments_lexer": "ipython3",
   "version": "3.13.0"
  }
 },
 "nbformat": 4,
 "nbformat_minor": 5
}
