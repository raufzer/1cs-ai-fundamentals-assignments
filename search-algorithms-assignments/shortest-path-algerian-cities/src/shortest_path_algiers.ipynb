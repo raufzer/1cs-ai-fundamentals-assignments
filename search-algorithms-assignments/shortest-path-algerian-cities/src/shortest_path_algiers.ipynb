{
 "cells": [
  {
   "cell_type": "markdown",
   "id": "068ceb79",
   "metadata": {},
   "source": [
    "# Import Required Libraries\n"
   ]
  },
  {
   "cell_type": "code",
   "execution_count": 3,
   "id": "b74e7cde",
   "metadata": {},
   "outputs": [],
   "source": [
    "import osmnx as ox\n",
    "import networkx as nx\n",
    "import folium\n",
    "from IPython.display import display\n"
   ]
  },
  {
   "cell_type": "markdown",
   "id": "e05b8dd2",
   "metadata": {},
   "source": [
    "# Load Map Data\n"
   ]
  },
  {
   "cell_type": "code",
   "execution_count": 4,
   "id": "76ac4e57",
   "metadata": {},
   "outputs": [],
   "source": [
    "def load_map_data():\n",
    "    print(\"Loading map data...\")\n",
    "    place = \"Algiers, Algeria\"\n",
    "    graph = ox.graph_from_place(place, network_type=\"drive\")\n",
    "    print(\"Map data loaded successfully!\")\n",
    "    return graph\n"
   ]
  },
  {
   "cell_type": "markdown",
   "id": "15c7c267",
   "metadata": {},
   "source": [
    "# Define Start and End Points Manually (Algiers)\n"
   ]
  },
  {
   "cell_type": "code",
   "execution_count": 5,
   "id": "1f1c5871",
   "metadata": {},
   "outputs": [],
   "source": [
    "def get_user_points():\n",
    "    print(\"Using predefined start and end points...\")\n",
    "\n",
    "    # Coordinates (latitude, longitude) for Algiers example\n",
    "    start_coords = (36.7526, 2.8897)  # Example Start Point\n",
    "    end_coords = (36.7317, 3.0847)    # Example End Point\n",
    "\n",
    "    print(f\"Start Point: {start_coords}\")\n",
    "    print(f\"End Point: {end_coords}\")\n",
    "    return start_coords, end_coords\n"
   ]
  },
  {
   "cell_type": "markdown",
   "id": "a1b71699",
   "metadata": {},
   "source": [
    "# Find Nearest Nodes in the Graph\n"
   ]
  },
  {
   "cell_type": "code",
   "execution_count": 6,
   "id": "9fc0a788",
   "metadata": {},
   "outputs": [],
   "source": [
    "def find_nearest_nodes(graph, start_coords, end_coords):\n",
    "    start_node = ox.distance.nearest_nodes(graph, start_coords[1], start_coords[0])\n",
    "    end_node = ox.distance.nearest_nodes(graph, end_coords[1], end_coords[0])\n",
    "    return start_node, end_node\n"
   ]
  },
  {
   "cell_type": "markdown",
   "id": "45e8ff79",
   "metadata": {},
   "source": [
    "# Find Shortest Path using A* Algorithm"
   ]
  },
  {
   "cell_type": "code",
   "execution_count": 7,
   "id": "452a97d3",
   "metadata": {},
   "outputs": [],
   "source": [
    "def find_shortest_path(graph, start_node, goal_node):\n",
    "    print(\"Finding shortest path...\")\n",
    "    shortest_path = nx.astar_path(graph, start_node, goal_node, weight=\"length\")\n",
    "    print(\"Shortest path found!\")\n",
    "    return shortest_path\n"
   ]
  },
  {
   "cell_type": "markdown",
   "id": "449e83d4",
   "metadata": {},
   "source": [
    "# Visualize Shortest Path on Map\n"
   ]
  },
  {
   "cell_type": "code",
   "execution_count": 8,
   "id": "e7d46d62",
   "metadata": {},
   "outputs": [],
   "source": [
    "def visualize_path_interactive(graph, shortest_path, start_coords, end_coords):\n",
    "    print(\"Displaying shortest path on an interactive map...\")\n",
    "\n",
    "    m = folium.Map(location=[36.7525, 3.04197], zoom_start=12)\n",
    "\n",
    "    folium.Marker(start_coords, popup=\"Start\", icon=folium.Icon(color=\"green\")).add_to(m)\n",
    "    folium.Marker(end_coords, popup=\"End\", icon=folium.Icon(color=\"red\")).add_to(m)\n",
    "    path_coords = [(graph.nodes[node]['y'], graph.nodes[node]['x']) for node in shortest_path]\n",
    "    folium.PolyLine(path_coords, color=\"blue\", weight=2.5, opacity=1).add_to(m)\n",
    "    display(m)\n"
   ]
  },
  {
   "cell_type": "markdown",
   "id": "0ea2a77d",
   "metadata": {},
   "source": [
    "# Main Execution\n"
   ]
  },
  {
   "cell_type": "code",
   "execution_count": 9,
   "id": "0c2acf50",
   "metadata": {},
   "outputs": [
    {
     "name": "stdout",
     "output_type": "stream",
     "text": [
      "Loading map data...\n",
      "Map data loaded successfully!\n",
      "Using predefined start and end points...\n",
      "Start Point: (36.7526, 2.8897)\n",
      "End Point: (36.7317, 3.0847)\n",
      "Finding shortest path...\n",
      "Shortest path found!\n",
      "Displaying shortest path on an interactive map...\n"
     ]
    },
    {
     "data": {
      "text/html": [
       "<div style=\"width:100%;\"><div style=\"position:relative;width:100%;height:0;padding-bottom:60%;\"><span style=\"color:#565656\">Make this Notebook Trusted to load map: File -> Trust Notebook</span><iframe srcdoc=\"&lt;!DOCTYPE html&gt;\n",
       "&lt;html&gt;\n",
       "&lt;head&gt;\n",
       "    \n",
       "    &lt;meta http-equiv=&quot;content-type&quot; content=&quot;text/html; charset=UTF-8&quot; /&gt;\n",
       "    \n",
       "        &lt;script&gt;\n",
       "            L_NO_TOUCH = false;\n",
       "            L_DISABLE_3D = false;\n",
       "        &lt;/script&gt;\n",
       "    \n",
       "    &lt;style&gt;html, body {width: 100%;height: 100%;margin: 0;padding: 0;}&lt;/style&gt;\n",
       "    &lt;style&gt;#map {position:absolute;top:0;bottom:0;right:0;left:0;}&lt;/style&gt;\n",
       "    &lt;script src=&quot;https://cdn.jsdelivr.net/npm/leaflet@1.9.3/dist/leaflet.js&quot;&gt;&lt;/script&gt;\n",
       "    &lt;script src=&quot;https://code.jquery.com/jquery-3.7.1.min.js&quot;&gt;&lt;/script&gt;\n",
       "    &lt;script src=&quot;https://cdn.jsdelivr.net/npm/bootstrap@5.2.2/dist/js/bootstrap.bundle.min.js&quot;&gt;&lt;/script&gt;\n",
       "    &lt;script src=&quot;https://cdnjs.cloudflare.com/ajax/libs/Leaflet.awesome-markers/2.0.2/leaflet.awesome-markers.js&quot;&gt;&lt;/script&gt;\n",
       "    &lt;link rel=&quot;stylesheet&quot; href=&quot;https://cdn.jsdelivr.net/npm/leaflet@1.9.3/dist/leaflet.css&quot;/&gt;\n",
       "    &lt;link rel=&quot;stylesheet&quot; href=&quot;https://cdn.jsdelivr.net/npm/bootstrap@5.2.2/dist/css/bootstrap.min.css&quot;/&gt;\n",
       "    &lt;link rel=&quot;stylesheet&quot; href=&quot;https://netdna.bootstrapcdn.com/bootstrap/3.0.0/css/bootstrap-glyphicons.css&quot;/&gt;\n",
       "    &lt;link rel=&quot;stylesheet&quot; href=&quot;https://cdn.jsdelivr.net/npm/@fortawesome/fontawesome-free@6.2.0/css/all.min.css&quot;/&gt;\n",
       "    &lt;link rel=&quot;stylesheet&quot; href=&quot;https://cdnjs.cloudflare.com/ajax/libs/Leaflet.awesome-markers/2.0.2/leaflet.awesome-markers.css&quot;/&gt;\n",
       "    &lt;link rel=&quot;stylesheet&quot; href=&quot;https://cdn.jsdelivr.net/gh/python-visualization/folium/folium/templates/leaflet.awesome.rotate.min.css&quot;/&gt;\n",
       "    \n",
       "            &lt;meta name=&quot;viewport&quot; content=&quot;width=device-width,\n",
       "                initial-scale=1.0, maximum-scale=1.0, user-scalable=no&quot; /&gt;\n",
       "            &lt;style&gt;\n",
       "                #map_eec12cb3c940df1578d53f93f7cd006b {\n",
       "                    position: relative;\n",
       "                    width: 100.0%;\n",
       "                    height: 100.0%;\n",
       "                    left: 0.0%;\n",
       "                    top: 0.0%;\n",
       "                }\n",
       "                .leaflet-container { font-size: 1rem; }\n",
       "            &lt;/style&gt;\n",
       "        \n",
       "&lt;/head&gt;\n",
       "&lt;body&gt;\n",
       "    \n",
       "    \n",
       "            &lt;div class=&quot;folium-map&quot; id=&quot;map_eec12cb3c940df1578d53f93f7cd006b&quot; &gt;&lt;/div&gt;\n",
       "        \n",
       "&lt;/body&gt;\n",
       "&lt;script&gt;\n",
       "    \n",
       "    \n",
       "            var map_eec12cb3c940df1578d53f93f7cd006b = L.map(\n",
       "                &quot;map_eec12cb3c940df1578d53f93f7cd006b&quot;,\n",
       "                {\n",
       "                    center: [36.7525, 3.04197],\n",
       "                    crs: L.CRS.EPSG3857,\n",
       "                    ...{\n",
       "  &quot;zoom&quot;: 12,\n",
       "  &quot;zoomControl&quot;: true,\n",
       "  &quot;preferCanvas&quot;: false,\n",
       "}\n",
       "\n",
       "                }\n",
       "            );\n",
       "\n",
       "            \n",
       "\n",
       "        \n",
       "    \n",
       "            var tile_layer_c5b88782cf5acc90e9d3c930de4bdfae = L.tileLayer(\n",
       "                &quot;https://tile.openstreetmap.org/{z}/{x}/{y}.png&quot;,\n",
       "                {\n",
       "  &quot;minZoom&quot;: 0,\n",
       "  &quot;maxZoom&quot;: 19,\n",
       "  &quot;maxNativeZoom&quot;: 19,\n",
       "  &quot;noWrap&quot;: false,\n",
       "  &quot;attribution&quot;: &quot;\\u0026copy; \\u003ca href=\\&quot;https://www.openstreetmap.org/copyright\\&quot;\\u003eOpenStreetMap\\u003c/a\\u003e contributors&quot;,\n",
       "  &quot;subdomains&quot;: &quot;abc&quot;,\n",
       "  &quot;detectRetina&quot;: false,\n",
       "  &quot;tms&quot;: false,\n",
       "  &quot;opacity&quot;: 1,\n",
       "}\n",
       "\n",
       "            );\n",
       "        \n",
       "    \n",
       "            tile_layer_c5b88782cf5acc90e9d3c930de4bdfae.addTo(map_eec12cb3c940df1578d53f93f7cd006b);\n",
       "        \n",
       "    \n",
       "            var marker_d843942c08022462a815b9c94099524e = L.marker(\n",
       "                [36.7526, 2.8897],\n",
       "                {\n",
       "}\n",
       "            ).addTo(map_eec12cb3c940df1578d53f93f7cd006b);\n",
       "        \n",
       "    \n",
       "            var icon_33f8c8aabdd804a93f2c4c504d28efe5 = L.AwesomeMarkers.icon(\n",
       "                {\n",
       "  &quot;markerColor&quot;: &quot;green&quot;,\n",
       "  &quot;iconColor&quot;: &quot;white&quot;,\n",
       "  &quot;icon&quot;: &quot;info-sign&quot;,\n",
       "  &quot;prefix&quot;: &quot;glyphicon&quot;,\n",
       "  &quot;extraClasses&quot;: &quot;fa-rotate-0&quot;,\n",
       "}\n",
       "            );\n",
       "        \n",
       "    \n",
       "        var popup_d9f9e484bab1181d9089e150523362b7 = L.popup({\n",
       "  &quot;maxWidth&quot;: &quot;100%&quot;,\n",
       "});\n",
       "\n",
       "        \n",
       "            \n",
       "                var html_c68ac8205de95e6b8f00896859e96dc6 = $(`&lt;div id=&quot;html_c68ac8205de95e6b8f00896859e96dc6&quot; style=&quot;width: 100.0%; height: 100.0%;&quot;&gt;Start&lt;/div&gt;`)[0];\n",
       "                popup_d9f9e484bab1181d9089e150523362b7.setContent(html_c68ac8205de95e6b8f00896859e96dc6);\n",
       "            \n",
       "        \n",
       "\n",
       "        marker_d843942c08022462a815b9c94099524e.bindPopup(popup_d9f9e484bab1181d9089e150523362b7)\n",
       "        ;\n",
       "\n",
       "        \n",
       "    \n",
       "    \n",
       "                marker_d843942c08022462a815b9c94099524e.setIcon(icon_33f8c8aabdd804a93f2c4c504d28efe5);\n",
       "            \n",
       "    \n",
       "            var marker_5db8a112ce78f9413d4f0b6deeb7c6f1 = L.marker(\n",
       "                [36.7317, 3.0847],\n",
       "                {\n",
       "}\n",
       "            ).addTo(map_eec12cb3c940df1578d53f93f7cd006b);\n",
       "        \n",
       "    \n",
       "            var icon_eb86214c9e9568c2ccde04dd32993adc = L.AwesomeMarkers.icon(\n",
       "                {\n",
       "  &quot;markerColor&quot;: &quot;red&quot;,\n",
       "  &quot;iconColor&quot;: &quot;white&quot;,\n",
       "  &quot;icon&quot;: &quot;info-sign&quot;,\n",
       "  &quot;prefix&quot;: &quot;glyphicon&quot;,\n",
       "  &quot;extraClasses&quot;: &quot;fa-rotate-0&quot;,\n",
       "}\n",
       "            );\n",
       "        \n",
       "    \n",
       "        var popup_be7c88f9763ea2be29a69a67d2b4c356 = L.popup({\n",
       "  &quot;maxWidth&quot;: &quot;100%&quot;,\n",
       "});\n",
       "\n",
       "        \n",
       "            \n",
       "                var html_94fcb9d7c1cbe427c0dff45d361fd104 = $(`&lt;div id=&quot;html_94fcb9d7c1cbe427c0dff45d361fd104&quot; style=&quot;width: 100.0%; height: 100.0%;&quot;&gt;End&lt;/div&gt;`)[0];\n",
       "                popup_be7c88f9763ea2be29a69a67d2b4c356.setContent(html_94fcb9d7c1cbe427c0dff45d361fd104);\n",
       "            \n",
       "        \n",
       "\n",
       "        marker_5db8a112ce78f9413d4f0b6deeb7c6f1.bindPopup(popup_be7c88f9763ea2be29a69a67d2b4c356)\n",
       "        ;\n",
       "\n",
       "        \n",
       "    \n",
       "    \n",
       "                marker_5db8a112ce78f9413d4f0b6deeb7c6f1.setIcon(icon_eb86214c9e9568c2ccde04dd32993adc);\n",
       "            \n",
       "    \n",
       "            var poly_line_8666129aaeb8b2942ca3aac91f8fb17d = L.polyline(\n",
       "                [[36.7524217, 2.8893685], [36.7513603, 2.8890449], [36.751195, 2.8886483], [36.7510684, 2.8887828], [36.7507343, 2.8891375], [36.7505749, 2.8892823], [36.7504494, 2.8893963], [36.7504273, 2.8894164], [36.7502492, 2.8895783], [36.7493657, 2.8904078], [36.7492488, 2.8905022], [36.7489806, 2.8904164], [36.7478802, 2.8906052], [36.7468726, 2.8921518], [36.7456092, 2.8934805], [36.7453964, 2.8936981], [36.7440535, 2.8950854], [36.7412982, 2.8983557], [36.7411281, 2.8986296], [36.7418004, 2.9024215], [36.739124, 2.905235], [36.7391248, 2.9049128], [36.7399961, 2.9043313], [36.7416342, 2.9162808], [36.7426754, 2.9194651], [36.7436556, 2.9215836], [36.7445314, 2.9231188], [36.7460594, 2.9253284], [36.7487583, 2.9306668], [36.7492024, 2.9326109], [36.7494229, 2.935174], [36.749236, 2.9379345], [36.7491517, 2.9385665], [36.7487534, 2.9412761], [36.7483553, 2.9434704], [36.7470641, 2.9513869], [36.7466814, 2.9537481], [36.7458296, 2.9588259], [36.7451462, 2.9741375], [36.7446154, 2.9831038], [36.7456444, 2.9863706], [36.7482529, 2.9908929], [36.7490845, 2.9933436], [36.7494099, 2.9959356], [36.7491456, 2.9990683], [36.7492515, 3.0018851], [36.7515276, 3.0132958], [36.7514527, 3.0148083], [36.7518151, 3.0173924], [36.7539409, 3.0192765], [36.7548415, 3.0208379], [36.7552522, 3.0237988], [36.7553864, 3.0240248], [36.7562711, 3.0264591], [36.7564025, 3.0277833], [36.7563892, 3.0278073], [36.7563512, 3.0280221], [36.7563914, 3.0281593], [36.756468, 3.0282558], [36.7566526, 3.0310497], [36.7565722, 3.0318237], [36.7560251, 3.0319962], [36.7547717, 3.0351412], [36.75258, 3.0382763], [36.7512809, 3.0400051], [36.7510428, 3.0400727], [36.7509844, 3.0400416], [36.7511464, 3.0402532], [36.7517278, 3.0409488], [36.7520743, 3.0411963], [36.7533033, 3.0420846], [36.753346, 3.0421417], [36.7535639, 3.0424805], [36.7532552, 3.0440963], [36.7504688, 3.0463659], [36.7502508, 3.0465291], [36.7496703, 3.0468961], [36.7483498, 3.049271], [36.7479116, 3.0498194], [36.7477479, 3.0501743], [36.7476224, 3.0504354], [36.7474171, 3.0506252], [36.7472574, 3.0506957], [36.747338, 3.0507818], [36.747639, 3.0538021], [36.7480205, 3.0544082], [36.7487141, 3.0553253], [36.7487098, 3.0554815], [36.7482698, 3.0574985], [36.7482266, 3.0577125], [36.7480357, 3.0587321], [36.7476116, 3.0594928], [36.7475874, 3.059608], [36.7475563, 3.0598692], [36.7474697, 3.0612521], [36.7474612, 3.0613938], [36.747441, 3.0618099], [36.7472938, 3.0622871], [36.7472604, 3.0623953], [36.7455809, 3.0662518], [36.7453771, 3.0670101], [36.7450058, 3.0686915], [36.7449768, 3.0687709], [36.7420022, 3.0720577], [36.7371501, 3.0751848], [36.7346864, 3.0793778], [36.7342113, 3.0802547], [36.7341089, 3.0804192], [36.73333, 3.0820574], [36.7330675, 3.0828525], [36.7328686, 3.0831875], [36.7327595, 3.0834534], [36.7327112, 3.083652], [36.7322357, 3.0845299]],\n",
       "                {&quot;bubblingMouseEvents&quot;: true, &quot;color&quot;: &quot;blue&quot;, &quot;dashArray&quot;: null, &quot;dashOffset&quot;: null, &quot;fill&quot;: false, &quot;fillColor&quot;: &quot;blue&quot;, &quot;fillOpacity&quot;: 0.2, &quot;fillRule&quot;: &quot;evenodd&quot;, &quot;lineCap&quot;: &quot;round&quot;, &quot;lineJoin&quot;: &quot;round&quot;, &quot;noClip&quot;: false, &quot;opacity&quot;: 1, &quot;smoothFactor&quot;: 1.0, &quot;stroke&quot;: true, &quot;weight&quot;: 2.5}\n",
       "            ).addTo(map_eec12cb3c940df1578d53f93f7cd006b);\n",
       "        \n",
       "&lt;/script&gt;\n",
       "&lt;/html&gt;\" style=\"position:absolute;width:100%;height:100%;left:0;top:0;border:none !important;\" allowfullscreen webkitallowfullscreen mozallowfullscreen></iframe></div></div>"
      ],
      "text/plain": [
       "<folium.folium.Map at 0x262215f5bd0>"
      ]
     },
     "metadata": {},
     "output_type": "display_data"
    }
   ],
   "source": [
    "def main():\n",
    "    graph = load_map_data()\n",
    "    start_coords, end_coords = get_user_points()\n",
    "    start_node, end_node = find_nearest_nodes(graph, start_coords, end_coords)\n",
    "    shortest_path = find_shortest_path(graph, start_node, end_node)\n",
    "    visualize_path_interactive(graph, shortest_path, start_coords, end_coords)\n",
    "\n",
    "main()\n"
   ]
  }
 ],
 "metadata": {
  "jupytext": {
   "cell_metadata_filter": "-all",
   "main_language": "python",
   "notebook_metadata_filter": "-all"
  },
  "kernelspec": {
   "display_name": "Python 3",
   "language": "python",
   "name": "python3"
  },
  "language_info": {
   "codemirror_mode": {
    "name": "ipython",
    "version": 3
   },
   "file_extension": ".py",
   "mimetype": "text/x-python",
   "name": "python",
   "nbconvert_exporter": "python",
   "pygments_lexer": "ipython3",
   "version": "3.13.0"
  }
 },
 "nbformat": 4,
 "nbformat_minor": 5
}
